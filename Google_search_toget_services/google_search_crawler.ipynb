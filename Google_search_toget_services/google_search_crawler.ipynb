{
 "cells": [
  {
   "cell_type": "code",
   "execution_count": 81,
   "metadata": {},
   "outputs": [],
   "source": [
    "# imported the requests library \n",
    "import requests \n",
    "import os\n",
    "import random\n",
    "import zipfile\n",
    "from urllib.request import urlopen\n",
    "import copy\n",
    "import pandas as pd\n",
    "import re\n",
    "from bs4 import BeautifulSoup"
   ]
  },
  {
   "cell_type": "code",
   "execution_count": null,
   "metadata": {},
   "outputs": [
    {
     "name": "stdout",
     "output_type": "stream",
     "text": [
      "Give your address where you want the service \n"
     ]
    }
   ],
   "source": [
    "print(\"Give your address where you want the service \")\n",
    "location =input().lower()"
   ]
  },
  {
   "cell_type": "code",
   "execution_count": 73,
   "metadata": {},
   "outputs": [
    {
     "name": "stdout",
     "output_type": "stream",
     "text": [
      "Service you want ?\n",
      "restaurants\n"
     ]
    }
   ],
   "source": [
    "print(\"Service you want ?\")\n",
    "service = input().lower()\n",
    "text_user = service + \" in \" + location"
   ]
  },
  {
   "cell_type": "code",
   "execution_count": 74,
   "metadata": {},
   "outputs": [],
   "source": [
    "\n",
    "def insertChar(mystring, position, chartoinsert):\n",
    "    longi = len(mystring)\n",
    "    mystring   =  mystring[:position] + chartoinsert + mystring[position:] \n",
    "    return mystring \n",
    "\n",
    "r=requests.get(\"https://www.google.com/search?q=\" + text_user + \"&rlz=1C1CHBF_enIN754IN754&aqs=chrome.1.69i57j0l7.5704j0j7&sourceid=chrome&ie=UTF-8\")\n",
    "soup=BeautifulSoup(r.content,features=\"lxml\")"
   ]
  },
  {
   "cell_type": "code",
   "execution_count": 75,
   "metadata": {},
   "outputs": [],
   "source": [
    "a = []\n",
    "for link in soup.find_all(\"div\", {\"class\": \"am3QBf\"}):\n",
    "    a.append(link)\n",
    "\n",
    "b = []\n",
    "for i in a:\n",
    "    b.append(i.find_all(\"span\"))\n",
    "    "
   ]
  },
  {
   "cell_type": "code",
   "execution_count": 76,
   "metadata": {},
   "outputs": [],
   "source": [
    "# a = []\n",
    "# for link in soup.find_all(\"span\"):\n",
    "#     a.append(link)"
   ]
  },
  {
   "cell_type": "code",
   "execution_count": null,
   "metadata": {},
   "outputs": [],
   "source": []
  },
  {
   "cell_type": "code",
   "execution_count": null,
   "metadata": {},
   "outputs": [],
   "source": []
  },
  {
   "cell_type": "code",
   "execution_count": 77,
   "metadata": {},
   "outputs": [],
   "source": [
    "def preprocess(str1):\n",
    "    return re.sub('<[^<]+?>', '', str1)"
   ]
  },
  {
   "cell_type": "code",
   "execution_count": null,
   "metadata": {},
   "outputs": [],
   "source": []
  },
  {
   "cell_type": "code",
   "execution_count": 78,
   "metadata": {},
   "outputs": [],
   "source": [
    "# 0 : Name\n",
    "# 1: Address\n",
    "# 2: Rated \n",
    "# 3: Real user rate\n",
    "\n",
    "df = pd.DataFrame(columns=('Name', 'Address', 'Rating'))\n",
    "rows = []\n",
    "for i in range(1,len(b)):\n",
    "    temp = []\n",
    "    try:\n",
    "        temp.append(preprocess(str(b[i][0])))\n",
    "    except:\n",
    "        temp.append(\"\")\n",
    "    try:\n",
    "        temp.append(preprocess(str(b[i][1])).split(\"·\")[1])\n",
    "    except:\n",
    "        temp.append(\"\")\n",
    "#     print(preprocess(str(b[i][2])))\n",
    "    try:\n",
    "        temp.append(preprocess(str(b[i][3])))\n",
    "    except:\n",
    "        temp.append(\"\")\n",
    "    rows.append(temp)"
   ]
  },
  {
   "cell_type": "code",
   "execution_count": null,
   "metadata": {},
   "outputs": [],
   "source": []
  },
  {
   "cell_type": "code",
   "execution_count": 79,
   "metadata": {},
   "outputs": [],
   "source": [
    "for row in rows:\n",
    "    df.loc[len(df)] = row"
   ]
  },
  {
   "cell_type": "code",
   "execution_count": 80,
   "metadata": {},
   "outputs": [
    {
     "data": {
      "text/html": [
       "<div>\n",
       "<style scoped>\n",
       "    .dataframe tbody tr th:only-of-type {\n",
       "        vertical-align: middle;\n",
       "    }\n",
       "\n",
       "    .dataframe tbody tr th {\n",
       "        vertical-align: top;\n",
       "    }\n",
       "\n",
       "    .dataframe thead th {\n",
       "        text-align: right;\n",
       "    }\n",
       "</style>\n",
       "<table border=\"1\" class=\"dataframe\">\n",
       "  <thead>\n",
       "    <tr style=\"text-align: right;\">\n",
       "      <th></th>\n",
       "      <th>Name</th>\n",
       "      <th>Address</th>\n",
       "      <th>Rating</th>\n",
       "    </tr>\n",
       "  </thead>\n",
       "  <tbody>\n",
       "    <tr>\n",
       "      <th>0</th>\n",
       "      <td>Rajwadu</td>\n",
       "      <td>₹₹₹Gujarati</td>\n",
       "      <td>4.4</td>\n",
       "    </tr>\n",
       "    <tr>\n",
       "      <th>1</th>\n",
       "      <td>Malhar Apartment</td>\n",
       "      <td>Malhar Apartment, behind Vasna Telephone Exch...</td>\n",
       "      <td>5.0</td>\n",
       "    </tr>\n",
       "    <tr>\n",
       "      <th>2</th>\n",
       "      <td>restaurants in ahmedabad</td>\n",
       "      <td></td>\n",
       "      <td></td>\n",
       "    </tr>\n",
       "    <tr>\n",
       "      <th>3</th>\n",
       "      <td>zomato gold restaurants in ahmedabad</td>\n",
       "      <td></td>\n",
       "      <td></td>\n",
       "    </tr>\n",
       "    <tr>\n",
       "      <th>4</th>\n",
       "      <td>restaurants on zomato</td>\n",
       "      <td></td>\n",
       "      <td></td>\n",
       "    </tr>\n",
       "    <tr>\n",
       "      <th>5</th>\n",
       "      <td>restaurants nearby</td>\n",
       "      <td></td>\n",
       "      <td></td>\n",
       "    </tr>\n",
       "    <tr>\n",
       "      <th>6</th>\n",
       "      <td>zomato new restaurants</td>\n",
       "      <td></td>\n",
       "      <td></td>\n",
       "    </tr>\n",
       "    <tr>\n",
       "      <th>7</th>\n",
       "      <td>365 restaurant ahmedabad sg highway menu</td>\n",
       "      <td></td>\n",
       "      <td></td>\n",
       "    </tr>\n",
       "    <tr>\n",
       "      <th>8</th>\n",
       "      <td>zomato justdial ahmedabad</td>\n",
       "      <td></td>\n",
       "      <td></td>\n",
       "    </tr>\n",
       "    <tr>\n",
       "      <th>9</th>\n",
       "      <td>zomato gujarat</td>\n",
       "      <td></td>\n",
       "      <td></td>\n",
       "    </tr>\n",
       "  </tbody>\n",
       "</table>\n",
       "</div>"
      ],
      "text/plain": [
       "                                       Name  \\\n",
       "0                                   Rajwadu   \n",
       "1                          Malhar Apartment   \n",
       "2                  restaurants in ahmedabad   \n",
       "3      zomato gold restaurants in ahmedabad   \n",
       "4                     restaurants on zomato   \n",
       "5                        restaurants nearby   \n",
       "6                    zomato new restaurants   \n",
       "7  365 restaurant ahmedabad sg highway menu   \n",
       "8                 zomato justdial ahmedabad   \n",
       "9                            zomato gujarat   \n",
       "\n",
       "                                             Address Rating  \n",
       "0                                       ₹₹₹Gujarati     4.4  \n",
       "1   Malhar Apartment, behind Vasna Telephone Exch...    5.0  \n",
       "2                                                            \n",
       "3                                                            \n",
       "4                                                            \n",
       "5                                                            \n",
       "6                                                            \n",
       "7                                                            \n",
       "8                                                            \n",
       "9                                                            "
      ]
     },
     "execution_count": 80,
     "metadata": {},
     "output_type": "execute_result"
    }
   ],
   "source": [
    "df"
   ]
  },
  {
   "cell_type": "code",
   "execution_count": null,
   "metadata": {},
   "outputs": [],
   "source": []
  },
  {
   "cell_type": "code",
   "execution_count": null,
   "metadata": {},
   "outputs": [],
   "source": []
  }
 ],
 "metadata": {
  "kernelspec": {
   "display_name": "Python 3",
   "language": "python",
   "name": "python3"
  },
  "language_info": {
   "codemirror_mode": {
    "name": "ipython",
    "version": 3
   },
   "file_extension": ".py",
   "mimetype": "text/x-python",
   "name": "python",
   "nbconvert_exporter": "python",
   "pygments_lexer": "ipython3",
   "version": "3.7.1"
  }
 },
 "nbformat": 4,
 "nbformat_minor": 2
}
